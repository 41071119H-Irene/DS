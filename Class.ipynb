{
 "cells": [
  {
   "cell_type": "code",
   "execution_count": 18,
   "id": "03542800",
   "metadata": {},
   "outputs": [],
   "source": [
    "from typing import List\n",
    "\n",
    "# Definition for a Node.\n",
    "class Node:\n",
    "     def __init__(self, val=None, children=None):\n",
    "            self.val = val\n",
    "            self.children = children if children is not None else []\n",
    "\n",
    "class Solution:\n",
    "    def preorder(self, root: 'Node') -> List[int]:\n",
    "        if not root:\n",
    "            return []\n",
    "        result = []\n",
    "        stack = [root]\n",
    "        while stack:\n",
    "            node = stack.pop()\n",
    "            result.append(node.val)\n",
    "            stack.extend(reversed(node.children))\n",
    "        return result"
   ]
  },
  {
   "cell_type": "code",
   "execution_count": 19,
   "id": "de7a1c87",
   "metadata": {},
   "outputs": [],
   "source": [
    "import os\n",
    "os.environ[\"PATH\"] += os.pathsep + 'C:\\Program Files (x86)\\Graphviz'"
   ]
  },
  {
   "cell_type": "code",
   "execution_count": 20,
   "id": "0894f8f7",
   "metadata": {},
   "outputs": [
    {
     "data": {
      "text/plain": [
       "'test-graph.pdf'"
      ]
     },
     "execution_count": 20,
     "metadata": {},
     "output_type": "execute_result"
    }
   ],
   "source": [
    "from graphviz import Digraph\n",
    "\n",
    "dot = Digraph()\n",
    "dot.node('A', 'Apple')\n",
    "dot.node('B', 'Banana')\n",
    "dot.node('C', 'Cherry')\n",
    "dot.edges(['AB', 'AC'])\n",
    "dot.render('test-graph', view=True)"
   ]
  },
  {
   "cell_type": "code",
   "execution_count": 21,
   "id": "4030e416",
   "metadata": {},
   "outputs": [
    {
     "data": {
      "text/plain": [
       "'nary_tree.png'"
      ]
     },
     "execution_count": 21,
     "metadata": {},
     "output_type": "execute_result"
    }
   ],
   "source": [
    "from graphviz import Digraph\n",
    "\n",
    "# Definition for a Node.\n",
    "class Node:\n",
    "     def __init__(self, val=None, children=None):\n",
    "            self.val = val\n",
    "            self.children = children if children is not None else []\n",
    "\n",
    "def draw_nary_tree(root):\n",
    "    dot = Digraph(comment='N-ary Tree')\n",
    "    if not root:\n",
    "        return dot\n",
    "    q = [(root, None)]\n",
    "    while q:\n",
    "        node, parent = q.pop(0)\n",
    "        dot.node(str(id(node)), label=str(node.val))\n",
    "        if parent:\n",
    "            dot.edge(str(id(parent)), str(id(node)))\n",
    "        for child in node.children:\n",
    "            q.append((child, node))\n",
    "    return dot\n",
    "\n",
    "# Create a N-ary tree\n",
    "root = Node(val=1, children=[Node(val=2), Node(val=3, children=[Node(val=6), Node(val=7)]), Node(val=4), Node(val=5)])\n",
    "\n",
    "# Draw the tree\n",
    "dot = draw_nary_tree(root)\n",
    "dot.format = 'png'\n",
    "dot.render('nary_tree')\n",
    "\n",
    "dot.view()\n"
   ]
  },
  {
   "cell_type": "code",
   "execution_count": null,
   "id": "ef45f172",
   "metadata": {},
   "outputs": [],
   "source": []
  },
  {
   "cell_type": "code",
   "execution_count": null,
   "id": "80593cd0",
   "metadata": {},
   "outputs": [],
   "source": []
  }
 ],
 "metadata": {
  "kernelspec": {
   "display_name": "Python 3 (ipykernel)",
   "language": "python",
   "name": "python3"
  },
  "language_info": {
   "codemirror_mode": {
    "name": "ipython",
    "version": 3
   },
   "file_extension": ".py",
   "mimetype": "text/x-python",
   "name": "python",
   "nbconvert_exporter": "python",
   "pygments_lexer": "ipython3",
   "version": "3.9.12"
  }
 },
 "nbformat": 4,
 "nbformat_minor": 5
}
